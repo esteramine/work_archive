{
 "cells": [
  {
   "cell_type": "markdown",
   "metadata": {},
   "source": [
    "1. Add headers = [\"Document Source\",\"Requirement Number\",\"CTBC Requirement Head\",\"CTBC Description\",\"TCS BaNCS Component\",\"Module Name\",\"TCS understanding (General Requirement Description)\",\"Fitement Analysis (Standard/Partial Gap/Gap)\",\"Customisattion Efforts Estimate (XL/L/M/S)\",\"Solution Summary\",\"Remark, If Any\"]\n",
    "2. write word content to excel\n",
    "    - save all the requirement number\n",
    "    - write original content (split requirement number and description and add 7 empty string elements at last)\n",
    "    - add requirement head\n",
    "3. excel 第一個 sheet 改 style (all cells with borders, headers with #002060 as background and #FFFFFF as font color and bold font, content cells with #E7E6E6)\n",
    "4. 加 table 到 excel sheets (add borders)\n"
   ]
  },
  {
   "cell_type": "code",
   "execution_count": 14,
   "metadata": {},
   "outputs": [],
   "source": [
    "import docx\n",
    "import openpyxl\n",
    "from openpyxl.styles import Side, Border, Alignment\n",
    "import pandas as pd\n",
    "import numpy as np\n",
    "import re\n",
    "import string"
   ]
  },
  {
   "cell_type": "code",
   "execution_count": 15,
   "metadata": {},
   "outputs": [
    {
     "data": {
      "text/plain": [
       "116"
      ]
     },
     "execution_count": 15,
     "metadata": {},
     "output_type": "execute_result"
    }
   ],
   "source": [
    "file_name = 'Navi-F2-030-UR-1.14-Gold inventory position management'\n",
    "doc = docx.Document(file_name + '.docx')\n",
    "all_par = doc.paragraphs\n",
    "len(all_par)"
   ]
  },
  {
   "cell_type": "code",
   "execution_count": 16,
   "metadata": {},
   "outputs": [],
   "source": [
    "doc_source = re.match(\"^[A-Za-z0-9]*-[A-Za-z0-9]*-[A-Za-z0-9]*-[A-Za-z0-9]*-[A-Za-z0-9_\\.]*\", file_name)[0]\n",
    "dict = {} # every numbering content dictionary for adding requirement head use\n",
    "num_list = [] # document numbering\n",
    "listx = [] # excel dataframe\n",
    "listx.append([\"Document Source\",\"Requirement Number\",\"CTBC Requirement Head\",\"CTBC Description\",\"TCS BaNCS Component\",\"Module Name\",\"TCS understanding (General Requirement Description)\",\"Fitement Analysis (Standard/Partial Gap/Gap)\",\"Customisattion Efforts Estimate (XL/L/M/S)\",\"Solution Summary\",\"Remark, If Any\"])\n",
    "for par in all_par:\n",
    "    text = par.text.strip()\n",
    "    if (text != ''):\n",
    "        number = re.match(\"^[1-9-\\.]+[\\.]?\", text)\n",
    "        content = re.split(\"^([1-9-\\.]+[\\.]?)\", text)\n",
    "        curr = []\n",
    "        if number:\n",
    "            num_list.append(number[0])\n",
    "            curr = [content[1], \"\", content[2].strip()]\n",
    "            dict[number[0]] = content[2].strip()\n",
    "        elif len(num_list) != 0: # eliminate title\n",
    "            curr = [num_list[len(num_list)-1], \"\", content[0].strip()]\n",
    "        if len(curr) != 0:\n",
    "            # find all parents and add header\n",
    "            header = ''\n",
    "            num = curr[0]\n",
    "            meet_digit = False\n",
    "            for i in range(len(num)-1, -1, -1): \n",
    "                if num[i].isdigit():\n",
    "                    meet_digit = True\n",
    "                elif meet_digit: # meet the next . or -\n",
    "                    meet_digit = False\n",
    "                    parent = num[:i+1]\n",
    "                    parent = parent[:-1] if (parent[:-1] in dict) else parent\n",
    "                    # if num[i] == '-':\n",
    "                    #     parent = parent[:-1]+'.'\n",
    "                    if parent in dict: \n",
    "                        header = (dict[parent]+'-' if len(header) !=0 else dict[parent])+header\n",
    "            curr[1] = header\n",
    "            # add to dataframe\n",
    "            listx.append([doc_source] + curr + [\"\",\"\",\"\",\"\",\"\",\"\",\"\",\"\"])\n",
    "df = pd.DataFrame(listx)\n",
    "css_headers = 'background-color: #002060; color: #FFFFFF; font-weight: bold; border-color: black; border-width: 1px; border-style: solid;'\n",
    "css_content = 'background-color: #E7E6E6; color: black; border-color: black; border-width: 1px; border-style: solid;'\n",
    "(df.style.apply(lambda col: np.where(col.index == 0, css_headers, css_content)) # alternating rows\n",
    ").to_excel(file_name+'.xlsx', engine='openpyxl', index=False, header=False, sheet_name=doc_source)"
   ]
  },
  {
   "cell_type": "code",
   "execution_count": 17,
   "metadata": {},
   "outputs": [],
   "source": [
    "workbook = openpyxl.load_workbook(filename=file_name+'.xlsx')\n",
    "if doc_source in workbook.sheetnames[0]:\n",
    "        sheet = workbook[workbook.sheetnames[0]]\n",
    "        sheet.column_dimensions['A'].width = 25\n",
    "        sheet.column_dimensions['C'].width = 45\n",
    "        sheet.column_dimensions['D'].width = 55\n",
    "        for row in sheet.iter_rows():\n",
    "                for cell in row:\n",
    "                        cell.alignment = Alignment(wrap_text=True)\n",
    "\n",
    "count = 0\n",
    "css_borders = 'border-color: black; border-width: 1px; border-style: solid;'\n",
    "side = Side(border_style='thin', color='000000')\n",
    "alphabet = list(string.ascii_uppercase)\n",
    "for table in doc.tables:\n",
    "        new_sheet = workbook.create_sheet(str(count))\n",
    "        # for tr,row in zip(table.rows, new_sheet.iter_rows()):\n",
    "        #         for tc,cell in zip(tr.cells, row):\n",
    "        #                 if tc.text:\n",
    "        #                         cell.value = tc.text\n",
    "        #                         cell.border = Border(top=side, bottom=side, left=side, right=side)\n",
    "        for i,row in enumerate(table.rows):\n",
    "                for j,cell in enumerate(row.cells):\n",
    "                        if i == 0:\n",
    "                                new_sheet.column_dimensions[alphabet[j]].width = 25\n",
    "                        new_sheet.cell(i+1,j+1).value = cell.text\n",
    "                        new_sheet.cell(i+1,j+1).border = Border(top=side, bottom=side, left=side, right=side)\n",
    "                        new_sheet.cell(i+1,j+1).alignment = Alignment(wrap_text=True)\n",
    "        count+=1\n",
    "workbook.save(filename=file_name+'.xlsx')\n"
   ]
  },
  {
   "cell_type": "code",
   "execution_count": 18,
   "metadata": {},
   "outputs": [],
   "source": [
    "### helper\n",
    "# header = ''\n",
    "# meet_digit = False\n",
    "# num = '1-3.2.1'\n",
    "# for i in range(len(num)-1, -1, -1): # find all parents\n",
    "#     if num[i].isdigit():\n",
    "#         meet_digit = True\n",
    "#     elif meet_digit: # meet the next . or -\n",
    "#         meet_digit = False\n",
    "#         parent = num[:i+1]\n",
    "#         print(parent)\n",
    "#         parent = parent[:-1] if (parent[:-1] in dict) else parent\n",
    "#         if parent in dict: \n",
    "#             header = (dict[parent]+'-' if len(header) !=0 else dict[parent])+header\n",
    "#             print(header)\n",
    "\n"
   ]
  }
 ],
 "metadata": {
  "kernelspec": {
   "display_name": "Python 3.10.8 64-bit",
   "language": "python",
   "name": "python3"
  },
  "language_info": {
   "codemirror_mode": {
    "name": "ipython",
    "version": 3
   },
   "file_extension": ".py",
   "mimetype": "text/x-python",
   "name": "python",
   "nbconvert_exporter": "python",
   "pygments_lexer": "ipython3",
   "version": "3.10.8"
  },
  "orig_nbformat": 4,
  "vscode": {
   "interpreter": {
    "hash": "b4a653173697556ab22521ac0c18c614c16275a9d8d7ac91dd8dc7f7c013c309"
   }
  }
 },
 "nbformat": 4,
 "nbformat_minor": 2
}
